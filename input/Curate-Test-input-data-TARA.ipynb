{
 "cells": [
  {
   "cell_type": "markdown",
   "metadata": {},
   "source": [
    "## Import provided tables with metadata, curate size fractions specific to Tara oceans data and generate Assembly lists"
   ]
  },
  {
   "cell_type": "code",
   "execution_count": 6,
   "metadata": {},
   "outputs": [],
   "source": [
    "import pandas as pd\n",
    "import argparse"
   ]
  },
  {
   "cell_type": "code",
   "execution_count": 31,
   "metadata": {},
   "outputs": [],
   "source": [
    "# # import tables which list metagenomic and metatranscriptomic reads\n",
    "# metag = pd.read_csv(\"ENA_tables/PRJEB4352_metaG_wenv.txt\", sep = '\\t')\n",
    "# metat = pd.read_csv(\"ENA_tables/PRJEB6609_metaT_wenv.txt\", sep = '\\t')"
   ]
  },
  {
   "cell_type": "code",
   "execution_count": 32,
   "metadata": {},
   "outputs": [],
   "source": [
    "# def main():\n",
    "#     p = argparse.ArgumentParser()\n",
    "#     p.add_argument('projectfile')\n",
    "#     p.add_argument('--column',default='fastq_ftp', required=False)\n",
    "#     p.add_argument('--delimiter', default=';', required=False)\n",
    "#     args = p.parse_args() \n",
    "#     #read in file and split the ftp column\n",
    "#     df = pd.read_table(args.projectfile) \n",
    "#     df[['c1', 'c2']]=df[args.column].str.split(args.delimiter, expand=True)\n",
    "#     #test if PE read by looking for fastq2 file\n",
    "#     pe_ind = df.c2.notnull()    \n",
    "#     se_ind = df.c2.isnull()\n",
    "#     basename = args.projectfile.split('.')[0]\n",
    "#     PE_out = basename + '_PE.txt'\n",
    "#     SE_out = basename + '_SE.txt'\n",
    "#     PE_READS = df.loc[pe_ind].drop(['c1', 'c2'], axis=1)\n",
    "#     SE_READS = df.loc[se_ind].drop(['c1', 'c2'], axis=1)  \n",
    "#     PE_READS.to_csv(PE_out, sep='\\t') \n",
    "#     SE_READS.to_csv(SE_out, sep='\\t')"
   ]
  },
  {
   "cell_type": "code",
   "execution_count": 7,
   "metadata": {},
   "outputs": [
    {
     "name": "stderr",
     "output_type": "stream",
     "text": [
      "/vortexfs1/apps/anaconda-5.1/lib/python3.6/site-packages/ipykernel_launcher.py:14: FutureWarning: Sorting because non-concatenation axis is not aligned. A future version\n",
      "of pandas will change to not sort by default.\n",
      "\n",
      "To accept the future behavior, pass 'sort=False'.\n",
      "\n",
      "To retain the current behavior and silence the warning, pass 'sort=True'.\n",
      "\n",
      "  \n"
     ]
    }
   ],
   "source": [
    "# import tables which list metagenomic and metatranscriptomic reads and take a subset\n",
    "\n",
    "# subset from the metagenomic data:\n",
    "metag_tmp = pd.read_csv(\"ENA_tables/PRJEB4352_metaG_wenv_PE.txt\", sep = '\\t')\n",
    "metag_tmp_subset_1 = metag_tmp[metag_tmp['OS region'] == \"[IO] Indian Ocean (MRGID:1904)\"].sample(n=10)\n",
    "metag_tmp_subset_2 = metag_tmp[metag_tmp['OS region'] == \"[MS] Mediterranean Sea (MRGID:1905)\"].sample(n=10)\n",
    "metag_cat_subset = pd.concat([metag_tmp_subset_1, metag_tmp_subset_2])\n",
    "metag_cat_subset.to_csv('ENA_tables/PRJEB4352_metaG_wenv_PE-TEST.txt', sep = '\\t')\n",
    "\n",
    "# repeat for metatranscriptomic data\n",
    "metat_tmp = pd.read_csv(\"ENA_tables/PRJEB6609_metaT_wenv_PE.txt\", sep = '\\t')\n",
    "metat_tmp_subset_1 = metat_tmp[metat_tmp['OS region'] == \"[IO] Indian Ocean (MRGID:1904)\"].sample(n=10)\n",
    "metat_tmp_subset_2 = metat_tmp[metat_tmp['OS region'] == \"[MS] Mediterranean Sea (MRGID:1905)\"].sample(n=10)\n",
    "metat_cat_subset = pd.concat([metat_tmp_subset_1, metag_tmp_subset_2])\n",
    "metat_cat_subset.to_csv('ENA_tables/PRJEB6609_metaT_wenv_PE-TEST.txt', sep = '\\t')"
   ]
  },
  {
   "cell_type": "code",
   "execution_count": 8,
   "metadata": {},
   "outputs": [],
   "source": [
    "# Import newly generated test datasets to run through below pipeline\n",
    "metag = pd.read_csv(\"ENA_tables/PRJEB4352_metaG_wenv_PE-TEST.txt\", sep = '\\t')\n",
    "metat = pd.read_csv(\"ENA_tables/PRJEB6609_metaT_wenv_PE-TEST.txt\", sep = '\\t')"
   ]
  },
  {
   "cell_type": "code",
   "execution_count": 9,
   "metadata": {},
   "outputs": [],
   "source": [
    "# Generate new columns called size frac\n",
    "metag['size_frac']= metag['Fraction lower [µm]'].map(str) + '-' + metag['Fraction upper [µm]'].map(str)\n",
    "metat['size_frac']= metat['Fraction lower [µm]'].map(str) + '-' + metat['Fraction upper [µm]'].map(str)"
   ]
  },
  {
   "cell_type": "markdown",
   "metadata": {},
   "source": [
    "### Tidy Size fraction data splitting "
   ]
  },
  {
   "cell_type": "code",
   "execution_count": 11,
   "metadata": {},
   "outputs": [
    {
     "data": {
      "text/html": [
       "<div>\n",
       "<style scoped>\n",
       "    .dataframe tbody tr th:only-of-type {\n",
       "        vertical-align: middle;\n",
       "    }\n",
       "\n",
       "    .dataframe tbody tr th {\n",
       "        vertical-align: top;\n",
       "    }\n",
       "\n",
       "    .dataframe thead th {\n",
       "        text-align: right;\n",
       "    }\n",
       "</style>\n",
       "<table border=\"1\" class=\"dataframe\">\n",
       "  <thead>\n",
       "    <tr style=\"text-align: right;\">\n",
       "      <th></th>\n",
       "      <th>study_accession</th>\n",
       "    </tr>\n",
       "    <tr>\n",
       "      <th>size_frac</th>\n",
       "      <th></th>\n",
       "    </tr>\n",
       "  </thead>\n",
       "  <tbody>\n",
       "    <tr>\n",
       "      <th>0.8-20.00</th>\n",
       "      <td>1</td>\n",
       "    </tr>\n",
       "    <tr>\n",
       "      <th>0.8-5.00</th>\n",
       "      <td>6</td>\n",
       "    </tr>\n",
       "    <tr>\n",
       "      <th>0.8-&gt;0.80</th>\n",
       "      <td>1</td>\n",
       "    </tr>\n",
       "    <tr>\n",
       "      <th>180.0-2000.00</th>\n",
       "      <td>5</td>\n",
       "    </tr>\n",
       "    <tr>\n",
       "      <th>20.0-180.00</th>\n",
       "      <td>3</td>\n",
       "    </tr>\n",
       "    <tr>\n",
       "      <th>5.0-20.00</th>\n",
       "      <td>4</td>\n",
       "    </tr>\n",
       "  </tbody>\n",
       "</table>\n",
       "</div>"
      ],
      "text/plain": [
       "               study_accession\n",
       "size_frac                     \n",
       "0.8-20.00                    1\n",
       "0.8-5.00                     6\n",
       "0.8->0.80                    1\n",
       "180.0-2000.00                5\n",
       "20.0-180.00                  3\n",
       "5.0-20.00                    4"
      ]
     },
     "execution_count": 11,
     "metadata": {},
     "output_type": "execute_result"
    }
   ],
   "source": [
    "# Original data -- group by size fractions in 4 distinct groups\n",
    "pd.DataFrame(metag.groupby('size_frac').count()['study_accession'])"
   ]
  },
  {
   "cell_type": "code",
   "execution_count": 12,
   "metadata": {},
   "outputs": [
    {
     "data": {
      "text/html": [
       "<div>\n",
       "<style scoped>\n",
       "    .dataframe tbody tr th:only-of-type {\n",
       "        vertical-align: middle;\n",
       "    }\n",
       "\n",
       "    .dataframe tbody tr th {\n",
       "        vertical-align: top;\n",
       "    }\n",
       "\n",
       "    .dataframe thead th {\n",
       "        text-align: right;\n",
       "    }\n",
       "</style>\n",
       "<table border=\"1\" class=\"dataframe\">\n",
       "  <thead>\n",
       "    <tr style=\"text-align: right;\">\n",
       "      <th></th>\n",
       "      <th>study_accession</th>\n",
       "    </tr>\n",
       "    <tr>\n",
       "      <th>size_frac</th>\n",
       "      <th></th>\n",
       "    </tr>\n",
       "  </thead>\n",
       "  <tbody>\n",
       "    <tr>\n",
       "      <th>0.8-5.00</th>\n",
       "      <td>8</td>\n",
       "    </tr>\n",
       "    <tr>\n",
       "      <th>180-2000.00</th>\n",
       "      <td>5</td>\n",
       "    </tr>\n",
       "    <tr>\n",
       "      <th>20-180.00</th>\n",
       "      <td>3</td>\n",
       "    </tr>\n",
       "    <tr>\n",
       "      <th>5-20.00</th>\n",
       "      <td>4</td>\n",
       "    </tr>\n",
       "  </tbody>\n",
       "</table>\n",
       "</div>"
      ],
      "text/plain": [
       "             study_accession\n",
       "size_frac                   \n",
       "0.8-5.00                   8\n",
       "180-2000.00                5\n",
       "20-180.00                  3\n",
       "5-20.00                    4"
      ]
     },
     "execution_count": 12,
     "metadata": {},
     "output_type": "execute_result"
    }
   ],
   "source": [
    "#drop 0.22 sample\n",
    "metag = metag[metag.size_frac != '0.22-3.00']\n",
    "metag = metag.replace('0.8->0.80', '0.8-5.00')\n",
    "metag = metag.replace('0.8-20.00', '0.8-5.00')\n",
    "metag = metag.replace('0.8-3.00', '0.8-5.00')\n",
    "metag = metag.replace('3.0->3.00', '0.8-5.00')\n",
    "metag = metag.replace('3.0->5.00', '0.8-5.00')\n",
    "metag = metag.replace('180.0-2000.00', '180-2000.00')\n",
    "metag = metag.replace('20.0-180.00', '20-180.00')\n",
    "metag = metag.replace('5.0-20.00', '5-20.00')\n",
    "\n",
    "#Check final groupings\n",
    "pd.DataFrame(metag.groupby('size_frac').count()['study_accession'])"
   ]
  },
  {
   "cell_type": "code",
   "execution_count": 13,
   "metadata": {},
   "outputs": [
    {
     "data": {
      "text/html": [
       "<div>\n",
       "<style scoped>\n",
       "    .dataframe tbody tr th:only-of-type {\n",
       "        vertical-align: middle;\n",
       "    }\n",
       "\n",
       "    .dataframe tbody tr th {\n",
       "        vertical-align: top;\n",
       "    }\n",
       "\n",
       "    .dataframe thead th {\n",
       "        text-align: right;\n",
       "    }\n",
       "</style>\n",
       "<table border=\"1\" class=\"dataframe\">\n",
       "  <thead>\n",
       "    <tr style=\"text-align: right;\">\n",
       "      <th></th>\n",
       "      <th>study_accession</th>\n",
       "    </tr>\n",
       "    <tr>\n",
       "      <th>size_frac</th>\n",
       "      <th></th>\n",
       "    </tr>\n",
       "  </thead>\n",
       "  <tbody>\n",
       "    <tr>\n",
       "      <th>0.8-5.00</th>\n",
       "      <td>9</td>\n",
       "    </tr>\n",
       "    <tr>\n",
       "      <th>180-2000.00</th>\n",
       "      <td>3</td>\n",
       "    </tr>\n",
       "    <tr>\n",
       "      <th>20-180.00</th>\n",
       "      <td>4</td>\n",
       "    </tr>\n",
       "    <tr>\n",
       "      <th>5-20.00</th>\n",
       "      <td>4</td>\n",
       "    </tr>\n",
       "  </tbody>\n",
       "</table>\n",
       "</div>"
      ],
      "text/plain": [
       "             study_accession\n",
       "size_frac                   \n",
       "0.8-5.00                   9\n",
       "180-2000.00                3\n",
       "20-180.00                  4\n",
       "5-20.00                    4"
      ]
     },
     "execution_count": 13,
     "metadata": {},
     "output_type": "execute_result"
    }
   ],
   "source": [
    "#drop 0.22 sample\n",
    "metat = metat.replace('0.8->0.80', '0.8-5.00')\n",
    "metat = metat.replace('0.8-20.00', '0.8-5.00')\n",
    "metat = metat.replace('0.8-3.00', '0.8-5.00')\n",
    "metat = metat.replace('3.0->3.00', '0.8-5.00')\n",
    "metat = metat.replace('3.0->5.00', '0.8-5.00')\n",
    "metat = metat.replace('180.0-2000.00', '180-2000.00')\n",
    "metat = metat.replace('20.0-180.00', '20-180.00')\n",
    "metat = metat.replace('5.0-20.00', '5-20.00')\n",
    "\n",
    "\n",
    "pd.DataFrame(metat.groupby('size_frac').count()['study_accession'])"
   ]
  },
  {
   "cell_type": "markdown",
   "metadata": {},
   "source": [
    "## Check Ocean Region and Depth and clean"
   ]
  },
  {
   "cell_type": "code",
   "execution_count": 14,
   "metadata": {},
   "outputs": [],
   "source": [
    "metag['OS'] = metag['OS region'].str.split(' ').str[0].str.strip('[').str.strip(']')\n",
    "metag['EF'] = metag['Env feature'].str.split(' ').str[0].str.strip('[').str.strip(']')\n",
    "metag['BG'] = metag['BG province'].str.split(' ').str[0].str.strip('[').str.strip(']')\n"
   ]
  },
  {
   "cell_type": "code",
   "execution_count": 15,
   "metadata": {},
   "outputs": [],
   "source": [
    "metat['OS'] = metat['OS region'].str.split(' ').str[0].str.strip('[').str.strip(']')\n",
    "metat['EF'] = metat['Env feature'].str.split(' ').str[0].str.strip('[').str.strip(']')\n",
    "metat['BG'] = metat['BG province'].str.split(' ').str[0].str.strip('[').str.strip(']')\n"
   ]
  },
  {
   "cell_type": "code",
   "execution_count": 16,
   "metadata": {},
   "outputs": [],
   "source": [
    "subset = ['study_accession', 'run_accession', 'Station', 'size_frac', 'Env feature', \n",
    "        'Sample material', 'Depth, nominal', 'OS region', 'BG province',\n",
    "        'Latitude', 'Longitude', 'OS', 'EF', 'BG']\n",
    "\n",
    "metag_subset = metag[subset]\n",
    "metat_subset = metat[subset]"
   ]
  },
  {
   "cell_type": "markdown",
   "metadata": {},
   "source": [
    "## Function to split into groups (for assembly)"
   ]
  },
  {
   "cell_type": "code",
   "execution_count": 17,
   "metadata": {},
   "outputs": [],
   "source": [
    "def split_assembly_groups(df, OS_list):\n",
    "    df['ERR_list']= df.groupby(['OS', 'EF', 'size_frac'])['run_accession'].transform(lambda x: ', '.join(x))\n",
    "    df_combo = df[['OS', 'EF', 'size_frac','ERR_list']].drop_duplicates()\n",
    "    df = df.drop('ERR_list', axis =1)\n",
    "    for O in OS_list:\n",
    "        df_combo = df_combo[df_combo.OS != O]\n",
    "        tmp = df[df.OS == O]\n",
    "        tmp['ERR_list']=tmp.groupby(['OS','BG', 'EF', 'size_frac'])['run_accession'].transform(lambda x: ', '.join(x))\n",
    "        tmp_combo =tmp[['OS', 'BG', 'EF', 'size_frac','ERR_list']].drop_duplicates()\n",
    "    final_combo = pd.concat([df_combo, tmp_combo])  \n",
    "    final_combo = final_combo.fillna('all')\n",
    "    final_combo['Assembly_group'] = final_combo.OS + '-' + final_combo.BG + '-' + final_combo.EF + '-' +final_combo.size_frac\n",
    "    final_combo['Sub_region'] = final_combo.OS + '-' + final_combo.BG\n",
    "    final_combo['Depth_sizefrac'] = final_combo.EF + '-' +final_combo.size_frac\n",
    "    final_combo['ERR_count']= final_combo['ERR_list'].str.split(', ').str.len()\n",
    "    final_combo = final_combo[['Sub_region', 'Depth_sizefrac', 'ERR_count', 'ERR_list', 'Assembly_group']]\n",
    "    final_combo = final_combo.set_index('Sub_region')\n",
    "    return(final_combo)"
   ]
  },
  {
   "cell_type": "code",
   "execution_count": 18,
   "metadata": {
    "scrolled": true
   },
   "outputs": [
    {
     "name": "stderr",
     "output_type": "stream",
     "text": [
      "/vortexfs1/apps/anaconda-5.1/lib/python3.6/site-packages/ipykernel_launcher.py:10: FutureWarning: Sorting because non-concatenation axis is not aligned. A future version\n",
      "of pandas will change to not sort by default.\n",
      "\n",
      "To accept the future behavior, pass 'sort=False'.\n",
      "\n",
      "To retain the current behavior and silence the warning, pass 'sort=True'.\n",
      "\n",
      "  # Remove the CWD from sys.path while we load stuff.\n"
     ]
    }
   ],
   "source": [
    "OS_list = ['SPO']\n",
    "metag_out = split_assembly_groups(metag, OS_list)\n",
    "metat_out = split_assembly_groups(metat, OS_list)\n",
    "\n",
    "metag_out.to_csv('SampleList_ForAssembly_metaG_python-TEST.txt', sep = '\\t')\n",
    "metat_out.to_csv('SampleList_ForAssembly_metaT_python-TEST.txt', sep = '\\t')"
   ]
  },
  {
   "cell_type": "code",
   "execution_count": 19,
   "metadata": {},
   "outputs": [
    {
     "data": {
      "text/html": [
       "<div>\n",
       "<style scoped>\n",
       "    .dataframe tbody tr th:only-of-type {\n",
       "        vertical-align: middle;\n",
       "    }\n",
       "\n",
       "    .dataframe tbody tr th {\n",
       "        vertical-align: top;\n",
       "    }\n",
       "\n",
       "    .dataframe thead th {\n",
       "        text-align: right;\n",
       "    }\n",
       "</style>\n",
       "<table border=\"1\" class=\"dataframe\">\n",
       "  <thead>\n",
       "    <tr style=\"text-align: right;\">\n",
       "      <th></th>\n",
       "      <th>Depth_sizefrac</th>\n",
       "      <th>ERR_count</th>\n",
       "      <th>ERR_list</th>\n",
       "      <th>Assembly_group</th>\n",
       "    </tr>\n",
       "    <tr>\n",
       "      <th>Sub_region</th>\n",
       "      <th></th>\n",
       "      <th></th>\n",
       "      <th></th>\n",
       "      <th></th>\n",
       "    </tr>\n",
       "  </thead>\n",
       "  <tbody>\n",
       "    <tr>\n",
       "      <th>IO-all</th>\n",
       "      <td>DCM-20-180.00</td>\n",
       "      <td>1</td>\n",
       "      <td>ERR1726832</td>\n",
       "      <td>IO-all-DCM-20-180.00</td>\n",
       "    </tr>\n",
       "    <tr>\n",
       "      <th>IO-all</th>\n",
       "      <td>MES-0.8-5.00</td>\n",
       "      <td>1</td>\n",
       "      <td>ERR599225</td>\n",
       "      <td>IO-all-MES-0.8-5.00</td>\n",
       "    </tr>\n",
       "    <tr>\n",
       "      <th>IO-all</th>\n",
       "      <td>DCM-5-20.00</td>\n",
       "      <td>1</td>\n",
       "      <td>ERR1700904</td>\n",
       "      <td>IO-all-DCM-5-20.00</td>\n",
       "    </tr>\n",
       "    <tr>\n",
       "      <th>IO-all</th>\n",
       "      <td>SRF-180-2000.00</td>\n",
       "      <td>1</td>\n",
       "      <td>ERR1726674</td>\n",
       "      <td>IO-all-SRF-180-2000.00</td>\n",
       "    </tr>\n",
       "    <tr>\n",
       "      <th>MS-all</th>\n",
       "      <td>SRF-180-2000.00</td>\n",
       "      <td>1</td>\n",
       "      <td>ERR1726810</td>\n",
       "      <td>MS-all-SRF-180-2000.00</td>\n",
       "    </tr>\n",
       "    <tr>\n",
       "      <th>MS-all</th>\n",
       "      <td>DCM-5-20.00</td>\n",
       "      <td>1</td>\n",
       "      <td>ERR1726715</td>\n",
       "      <td>MS-all-DCM-5-20.00</td>\n",
       "    </tr>\n",
       "    <tr>\n",
       "      <th>MS-all</th>\n",
       "      <td>DCM-20-180.00</td>\n",
       "      <td>1</td>\n",
       "      <td>ERR538177</td>\n",
       "      <td>MS-all-DCM-20-180.00</td>\n",
       "    </tr>\n",
       "    <tr>\n",
       "      <th>MS-all</th>\n",
       "      <td>SRF-20-180.00</td>\n",
       "      <td>1</td>\n",
       "      <td>ERR1726660</td>\n",
       "      <td>MS-all-SRF-20-180.00</td>\n",
       "    </tr>\n",
       "    <tr>\n",
       "      <th>MS-all</th>\n",
       "      <td>SRF-5-20.00</td>\n",
       "      <td>2</td>\n",
       "      <td>ERR1726722, ERR538190</td>\n",
       "      <td>MS-all-SRF-5-20.00</td>\n",
       "    </tr>\n",
       "    <tr>\n",
       "      <th>MS-all</th>\n",
       "      <td>SRF-0.8-5.00</td>\n",
       "      <td>2</td>\n",
       "      <td>ERR1726597, ERR868456</td>\n",
       "      <td>MS-all-SRF-0.8-5.00</td>\n",
       "    </tr>\n",
       "    <tr>\n",
       "      <th>MS-all</th>\n",
       "      <td>DCM-0.8-5.00</td>\n",
       "      <td>2</td>\n",
       "      <td>ERR538179, ERR868418</td>\n",
       "      <td>MS-all-DCM-0.8-5.00</td>\n",
       "    </tr>\n",
       "    <tr>\n",
       "      <th>IO-all</th>\n",
       "      <td>DCM-180-2000.00</td>\n",
       "      <td>3</td>\n",
       "      <td>ERR599244, ERR1726526, ERR1726696</td>\n",
       "      <td>IO-all-DCM-180-2000.00</td>\n",
       "    </tr>\n",
       "    <tr>\n",
       "      <th>IO-all</th>\n",
       "      <td>SRF-0.8-5.00</td>\n",
       "      <td>3</td>\n",
       "      <td>ERR599280, ERR868498, ERR868503</td>\n",
       "      <td>IO-all-SRF-0.8-5.00</td>\n",
       "    </tr>\n",
       "  </tbody>\n",
       "</table>\n",
       "</div>"
      ],
      "text/plain": [
       "             Depth_sizefrac  ERR_count                           ERR_list  \\\n",
       "Sub_region                                                                  \n",
       "IO-all        DCM-20-180.00          1                         ERR1726832   \n",
       "IO-all         MES-0.8-5.00          1                          ERR599225   \n",
       "IO-all          DCM-5-20.00          1                         ERR1700904   \n",
       "IO-all      SRF-180-2000.00          1                         ERR1726674   \n",
       "MS-all      SRF-180-2000.00          1                         ERR1726810   \n",
       "MS-all          DCM-5-20.00          1                         ERR1726715   \n",
       "MS-all        DCM-20-180.00          1                          ERR538177   \n",
       "MS-all        SRF-20-180.00          1                         ERR1726660   \n",
       "MS-all          SRF-5-20.00          2              ERR1726722, ERR538190   \n",
       "MS-all         SRF-0.8-5.00          2              ERR1726597, ERR868456   \n",
       "MS-all         DCM-0.8-5.00          2               ERR538179, ERR868418   \n",
       "IO-all      DCM-180-2000.00          3  ERR599244, ERR1726526, ERR1726696   \n",
       "IO-all         SRF-0.8-5.00          3    ERR599280, ERR868498, ERR868503   \n",
       "\n",
       "                    Assembly_group  \n",
       "Sub_region                          \n",
       "IO-all        IO-all-DCM-20-180.00  \n",
       "IO-all         IO-all-MES-0.8-5.00  \n",
       "IO-all          IO-all-DCM-5-20.00  \n",
       "IO-all      IO-all-SRF-180-2000.00  \n",
       "MS-all      MS-all-SRF-180-2000.00  \n",
       "MS-all          MS-all-DCM-5-20.00  \n",
       "MS-all        MS-all-DCM-20-180.00  \n",
       "MS-all        MS-all-SRF-20-180.00  \n",
       "MS-all          MS-all-SRF-5-20.00  \n",
       "MS-all         MS-all-SRF-0.8-5.00  \n",
       "MS-all         MS-all-DCM-0.8-5.00  \n",
       "IO-all      IO-all-DCM-180-2000.00  \n",
       "IO-all         IO-all-SRF-0.8-5.00  "
      ]
     },
     "execution_count": 19,
     "metadata": {},
     "output_type": "execute_result"
    }
   ],
   "source": [
    "metag_out.sort_values(['ERR_count'])"
   ]
  }
 ],
 "metadata": {
  "kernelspec": {
   "display_name": "Python 3",
   "language": "python",
   "name": "python3"
  },
  "language_info": {
   "codemirror_mode": {
    "name": "ipython",
    "version": 3
   },
   "file_extension": ".py",
   "mimetype": "text/x-python",
   "name": "python",
   "nbconvert_exporter": "python",
   "pygments_lexer": "ipython3",
   "version": "3.6.7"
  }
 },
 "nbformat": 4,
 "nbformat_minor": 2
}
